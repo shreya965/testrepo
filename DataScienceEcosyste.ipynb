{
 "cells": [
  {
   "cell_type": "markdown",
   "id": "9fff0b04-282d-4279-a2e1-c800551f9679",
   "metadata": {},
   "source": [
    "# Data Science Tools and Ecosystem"
   ]
  },
  {
   "cell_type": "markdown",
   "id": "a023c77c-63b2-4495-ab14-a27780f3f410",
   "metadata": {},
   "source": [
    "## In this notebook, Data Science Tools and Ecosystem are summarized.\n",
    "## **Objectives:**\n",
    "## .List popular languages for Data Science\n",
    "## .List commonly used libraries used by data scientists\n",
    "## .List Data Science Tools"
   ]
  },
  {
   "cell_type": "markdown",
   "id": "f3385b1d-5690-45fa-ba80-ccf099a452f0",
   "metadata": {},
   "source": [
    "## Some of the popular languages that Data Scientists use are:"
   ]
  },
  {
   "cell_type": "markdown",
   "id": "3d2c3410-90c8-4ace-a7eb-2ebb6b86ac93",
   "metadata": {},
   "source": [
    "## 1.R\n",
    "## 2.Python\n",
    "## 3.SQL\n"
   ]
  },
  {
   "cell_type": "markdown",
   "id": "198a9052-1cf4-4ad5-8924-919ec414ef3f",
   "metadata": {},
   "source": [
    "## Some of the commonly used libraries used by Data Scientists include:"
   ]
  },
  {
   "cell_type": "markdown",
   "id": "0283a998-a220-4cf1-9995-c2bfa03b482a",
   "metadata": {},
   "source": [
    "## 1.NumPy\n",
    "## 2.Pandas\n",
    "## 3.Matplotlib"
   ]
  },
  {
   "cell_type": "markdown",
   "id": "b4ac898c-6df3-41f5-8bfb-4f63700f353c",
   "metadata": {},
   "source": [
    "| Data Science Tools |\n",
    "| -------------------|\n",
    "| Jupyter Notebook |\n",
    "| RStudio |\n",
    "| VS Code |"
   ]
  },
  {
   "cell_type": "markdown",
   "id": "e76a0c69-3acc-4ba7-b5f4-70d69cb491b8",
   "metadata": {},
   "source": [
    "### Below are a few examples of evaluating arithmetic expressions in Python"
   ]
  },
  {
   "cell_type": "code",
   "execution_count": 1,
   "id": "d8391139-a63c-4554-acd5-0807a9f129c2",
   "metadata": {},
   "outputs": [
    {
     "data": {
      "text/plain": [
       "17"
      ]
     },
     "execution_count": 1,
     "metadata": {},
     "output_type": "execute_result"
    }
   ],
   "source": [
    "#This a simple arithmetic expression to mutiply then add integers\n",
    "(3*4)+5"
   ]
  },
  {
   "cell_type": "code",
   "execution_count": 2,
   "id": "86e46f9c-046b-474e-913a-c22495f4845c",
   "metadata": {},
   "outputs": [
    {
     "data": {
      "text/plain": [
       "3.3333333333333335"
      ]
     },
     "execution_count": 2,
     "metadata": {},
     "output_type": "execute_result"
    }
   ],
   "source": [
    "# This will convert 200 minutes to hours by diving by 60\n",
    "200/60"
   ]
  },
  {
   "cell_type": "markdown",
   "id": "b481bf32-c653-4dba-a47f-e13151805686",
   "metadata": {},
   "source": [
    "## Author\n",
    "Shreya"
   ]
  },
  {
   "cell_type": "code",
   "execution_count": null,
   "id": "5505c194-31a7-4542-b817-748f2eb27d1d",
   "metadata": {},
   "outputs": [],
   "source": []
  }
 ],
 "metadata": {
  "kernelspec": {
   "display_name": "Python [conda env:base] *",
   "language": "python",
   "name": "conda-base-py"
  },
  "language_info": {
   "codemirror_mode": {
    "name": "ipython",
    "version": 3
   },
   "file_extension": ".py",
   "mimetype": "text/x-python",
   "name": "python",
   "nbconvert_exporter": "python",
   "pygments_lexer": "ipython3",
   "version": "3.12.7"
  }
 },
 "nbformat": 4,
 "nbformat_minor": 5
}
